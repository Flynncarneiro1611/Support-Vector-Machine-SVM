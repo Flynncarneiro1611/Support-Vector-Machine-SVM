{
 "cells": [
  {
   "cell_type": "markdown",
   "metadata": {},
   "source": [
    "# Machine Learning Model (Support Vector Machine)"
   ]
  },
  {
   "cell_type": "code",
   "execution_count": 1,
   "metadata": {},
   "outputs": [],
   "source": [
    "import os"
   ]
  },
  {
   "cell_type": "code",
   "execution_count": 2,
   "metadata": {},
   "outputs": [
    {
     "data": {
      "text/plain": [
       "'C:\\\\Users\\\\Dell\\\\Machine Learning Model'"
      ]
     },
     "execution_count": 2,
     "metadata": {},
     "output_type": "execute_result"
    }
   ],
   "source": [
    "os.getcwd()"
   ]
  },
  {
   "cell_type": "code",
   "execution_count": 3,
   "metadata": {},
   "outputs": [],
   "source": [
    "os.chdir('C:\\\\Users\\\\Dell')"
   ]
  },
  {
   "cell_type": "code",
   "execution_count": 4,
   "metadata": {},
   "outputs": [
    {
     "data": {
      "text/plain": [
       "'C:\\\\Users\\\\Dell'"
      ]
     },
     "execution_count": 4,
     "metadata": {},
     "output_type": "execute_result"
    }
   ],
   "source": [
    "os.getcwd()"
   ]
  },
  {
   "cell_type": "code",
   "execution_count": 5,
   "metadata": {},
   "outputs": [],
   "source": [
    "import numpy as np\n",
    "import pandas as pd"
   ]
  },
  {
   "cell_type": "code",
   "execution_count": 6,
   "metadata": {},
   "outputs": [
    {
     "data": {
      "text/html": [
       "<div>\n",
       "<style scoped>\n",
       "    .dataframe tbody tr th:only-of-type {\n",
       "        vertical-align: middle;\n",
       "    }\n",
       "\n",
       "    .dataframe tbody tr th {\n",
       "        vertical-align: top;\n",
       "    }\n",
       "\n",
       "    .dataframe thead th {\n",
       "        text-align: right;\n",
       "    }\n",
       "</style>\n",
       "<table border=\"1\" class=\"dataframe\">\n",
       "  <thead>\n",
       "    <tr style=\"text-align: right;\">\n",
       "      <th></th>\n",
       "      <th>age</th>\n",
       "      <th>sex</th>\n",
       "      <th>cp</th>\n",
       "      <th>trestbps</th>\n",
       "      <th>chol</th>\n",
       "      <th>fbs</th>\n",
       "      <th>restecg</th>\n",
       "      <th>thalach</th>\n",
       "      <th>exang</th>\n",
       "      <th>oldpeak</th>\n",
       "      <th>slope</th>\n",
       "      <th>ca</th>\n",
       "      <th>thal</th>\n",
       "      <th>target</th>\n",
       "    </tr>\n",
       "  </thead>\n",
       "  <tbody>\n",
       "    <tr>\n",
       "      <td>0</td>\n",
       "      <td>63</td>\n",
       "      <td>1</td>\n",
       "      <td>3</td>\n",
       "      <td>145</td>\n",
       "      <td>233</td>\n",
       "      <td>1</td>\n",
       "      <td>0</td>\n",
       "      <td>150</td>\n",
       "      <td>0</td>\n",
       "      <td>2.3</td>\n",
       "      <td>0</td>\n",
       "      <td>0</td>\n",
       "      <td>1</td>\n",
       "      <td>1</td>\n",
       "    </tr>\n",
       "    <tr>\n",
       "      <td>1</td>\n",
       "      <td>37</td>\n",
       "      <td>1</td>\n",
       "      <td>2</td>\n",
       "      <td>130</td>\n",
       "      <td>250</td>\n",
       "      <td>0</td>\n",
       "      <td>1</td>\n",
       "      <td>187</td>\n",
       "      <td>0</td>\n",
       "      <td>3.5</td>\n",
       "      <td>0</td>\n",
       "      <td>0</td>\n",
       "      <td>2</td>\n",
       "      <td>1</td>\n",
       "    </tr>\n",
       "    <tr>\n",
       "      <td>2</td>\n",
       "      <td>41</td>\n",
       "      <td>0</td>\n",
       "      <td>1</td>\n",
       "      <td>130</td>\n",
       "      <td>204</td>\n",
       "      <td>0</td>\n",
       "      <td>0</td>\n",
       "      <td>172</td>\n",
       "      <td>0</td>\n",
       "      <td>1.4</td>\n",
       "      <td>2</td>\n",
       "      <td>0</td>\n",
       "      <td>2</td>\n",
       "      <td>1</td>\n",
       "    </tr>\n",
       "    <tr>\n",
       "      <td>3</td>\n",
       "      <td>56</td>\n",
       "      <td>1</td>\n",
       "      <td>1</td>\n",
       "      <td>120</td>\n",
       "      <td>236</td>\n",
       "      <td>0</td>\n",
       "      <td>1</td>\n",
       "      <td>178</td>\n",
       "      <td>0</td>\n",
       "      <td>0.8</td>\n",
       "      <td>2</td>\n",
       "      <td>0</td>\n",
       "      <td>2</td>\n",
       "      <td>1</td>\n",
       "    </tr>\n",
       "    <tr>\n",
       "      <td>4</td>\n",
       "      <td>57</td>\n",
       "      <td>0</td>\n",
       "      <td>0</td>\n",
       "      <td>120</td>\n",
       "      <td>354</td>\n",
       "      <td>0</td>\n",
       "      <td>1</td>\n",
       "      <td>163</td>\n",
       "      <td>1</td>\n",
       "      <td>0.6</td>\n",
       "      <td>2</td>\n",
       "      <td>0</td>\n",
       "      <td>2</td>\n",
       "      <td>1</td>\n",
       "    </tr>\n",
       "  </tbody>\n",
       "</table>\n",
       "</div>"
      ],
      "text/plain": [
       "   age  sex  cp  trestbps  chol  fbs  restecg  thalach  exang  oldpeak  slope  \\\n",
       "0   63    1   3       145   233    1        0      150      0      2.3      0   \n",
       "1   37    1   2       130   250    0        1      187      0      3.5      0   \n",
       "2   41    0   1       130   204    0        0      172      0      1.4      2   \n",
       "3   56    1   1       120   236    0        1      178      0      0.8      2   \n",
       "4   57    0   0       120   354    0        1      163      1      0.6      2   \n",
       "\n",
       "   ca  thal  target  \n",
       "0   0     1       1  \n",
       "1   0     2       1  \n",
       "2   0     2       1  \n",
       "3   0     2       1  \n",
       "4   0     2       1  "
      ]
     },
     "execution_count": 6,
     "metadata": {},
     "output_type": "execute_result"
    }
   ],
   "source": [
    "heart=pd.read_csv(\"Heart.csv\")\n",
    "heart.head()"
   ]
  },
  {
   "cell_type": "markdown",
   "metadata": {},
   "source": [
    "# Step 1"
   ]
  },
  {
   "cell_type": "code",
   "execution_count": 7,
   "metadata": {},
   "outputs": [],
   "source": [
    "X=heart.drop(columns=[\"target\"])"
   ]
  },
  {
   "cell_type": "code",
   "execution_count": 8,
   "metadata": {},
   "outputs": [
    {
     "data": {
      "text/html": [
       "<div>\n",
       "<style scoped>\n",
       "    .dataframe tbody tr th:only-of-type {\n",
       "        vertical-align: middle;\n",
       "    }\n",
       "\n",
       "    .dataframe tbody tr th {\n",
       "        vertical-align: top;\n",
       "    }\n",
       "\n",
       "    .dataframe thead th {\n",
       "        text-align: right;\n",
       "    }\n",
       "</style>\n",
       "<table border=\"1\" class=\"dataframe\">\n",
       "  <thead>\n",
       "    <tr style=\"text-align: right;\">\n",
       "      <th></th>\n",
       "      <th>age</th>\n",
       "      <th>sex</th>\n",
       "      <th>cp</th>\n",
       "      <th>trestbps</th>\n",
       "      <th>chol</th>\n",
       "      <th>fbs</th>\n",
       "      <th>restecg</th>\n",
       "      <th>thalach</th>\n",
       "      <th>exang</th>\n",
       "      <th>oldpeak</th>\n",
       "      <th>slope</th>\n",
       "      <th>ca</th>\n",
       "      <th>thal</th>\n",
       "    </tr>\n",
       "  </thead>\n",
       "  <tbody>\n",
       "    <tr>\n",
       "      <td>0</td>\n",
       "      <td>63</td>\n",
       "      <td>1</td>\n",
       "      <td>3</td>\n",
       "      <td>145</td>\n",
       "      <td>233</td>\n",
       "      <td>1</td>\n",
       "      <td>0</td>\n",
       "      <td>150</td>\n",
       "      <td>0</td>\n",
       "      <td>2.3</td>\n",
       "      <td>0</td>\n",
       "      <td>0</td>\n",
       "      <td>1</td>\n",
       "    </tr>\n",
       "    <tr>\n",
       "      <td>1</td>\n",
       "      <td>37</td>\n",
       "      <td>1</td>\n",
       "      <td>2</td>\n",
       "      <td>130</td>\n",
       "      <td>250</td>\n",
       "      <td>0</td>\n",
       "      <td>1</td>\n",
       "      <td>187</td>\n",
       "      <td>0</td>\n",
       "      <td>3.5</td>\n",
       "      <td>0</td>\n",
       "      <td>0</td>\n",
       "      <td>2</td>\n",
       "    </tr>\n",
       "    <tr>\n",
       "      <td>2</td>\n",
       "      <td>41</td>\n",
       "      <td>0</td>\n",
       "      <td>1</td>\n",
       "      <td>130</td>\n",
       "      <td>204</td>\n",
       "      <td>0</td>\n",
       "      <td>0</td>\n",
       "      <td>172</td>\n",
       "      <td>0</td>\n",
       "      <td>1.4</td>\n",
       "      <td>2</td>\n",
       "      <td>0</td>\n",
       "      <td>2</td>\n",
       "    </tr>\n",
       "    <tr>\n",
       "      <td>3</td>\n",
       "      <td>56</td>\n",
       "      <td>1</td>\n",
       "      <td>1</td>\n",
       "      <td>120</td>\n",
       "      <td>236</td>\n",
       "      <td>0</td>\n",
       "      <td>1</td>\n",
       "      <td>178</td>\n",
       "      <td>0</td>\n",
       "      <td>0.8</td>\n",
       "      <td>2</td>\n",
       "      <td>0</td>\n",
       "      <td>2</td>\n",
       "    </tr>\n",
       "    <tr>\n",
       "      <td>4</td>\n",
       "      <td>57</td>\n",
       "      <td>0</td>\n",
       "      <td>0</td>\n",
       "      <td>120</td>\n",
       "      <td>354</td>\n",
       "      <td>0</td>\n",
       "      <td>1</td>\n",
       "      <td>163</td>\n",
       "      <td>1</td>\n",
       "      <td>0.6</td>\n",
       "      <td>2</td>\n",
       "      <td>0</td>\n",
       "      <td>2</td>\n",
       "    </tr>\n",
       "  </tbody>\n",
       "</table>\n",
       "</div>"
      ],
      "text/plain": [
       "   age  sex  cp  trestbps  chol  fbs  restecg  thalach  exang  oldpeak  slope  \\\n",
       "0   63    1   3       145   233    1        0      150      0      2.3      0   \n",
       "1   37    1   2       130   250    0        1      187      0      3.5      0   \n",
       "2   41    0   1       130   204    0        0      172      0      1.4      2   \n",
       "3   56    1   1       120   236    0        1      178      0      0.8      2   \n",
       "4   57    0   0       120   354    0        1      163      1      0.6      2   \n",
       "\n",
       "   ca  thal  \n",
       "0   0     1  \n",
       "1   0     2  \n",
       "2   0     2  \n",
       "3   0     2  \n",
       "4   0     2  "
      ]
     },
     "execution_count": 8,
     "metadata": {},
     "output_type": "execute_result"
    }
   ],
   "source": [
    "X.head()"
   ]
  },
  {
   "cell_type": "code",
   "execution_count": 9,
   "metadata": {},
   "outputs": [],
   "source": [
    "y=heart[\"target\"]"
   ]
  },
  {
   "cell_type": "code",
   "execution_count": 11,
   "metadata": {},
   "outputs": [
    {
     "data": {
      "text/plain": [
       "0    1\n",
       "1    1\n",
       "2    1\n",
       "3    1\n",
       "4    1\n",
       "Name: target, dtype: int64"
      ]
     },
     "execution_count": 11,
     "metadata": {},
     "output_type": "execute_result"
    }
   ],
   "source": [
    "y.head()"
   ]
  },
  {
   "cell_type": "markdown",
   "metadata": {},
   "source": [
    "# Rules"
   ]
  },
  {
   "cell_type": "code",
   "execution_count": 13,
   "metadata": {},
   "outputs": [
    {
     "data": {
      "text/plain": [
       "age           int64\n",
       "sex           int64\n",
       "cp            int64\n",
       "trestbps      int64\n",
       "chol          int64\n",
       "fbs           int64\n",
       "restecg       int64\n",
       "thalach       int64\n",
       "exang         int64\n",
       "oldpeak     float64\n",
       "slope         int64\n",
       "ca            int64\n",
       "thal          int64\n",
       "dtype: object"
      ]
     },
     "execution_count": 13,
     "metadata": {},
     "output_type": "execute_result"
    }
   ],
   "source": [
    "X.dtypes"
   ]
  },
  {
   "cell_type": "code",
   "execution_count": 14,
   "metadata": {},
   "outputs": [
    {
     "data": {
      "text/plain": [
       "pandas.core.frame.DataFrame"
      ]
     },
     "execution_count": 14,
     "metadata": {},
     "output_type": "execute_result"
    }
   ],
   "source": [
    "type(X)"
   ]
  },
  {
   "cell_type": "code",
   "execution_count": 15,
   "metadata": {},
   "outputs": [
    {
     "data": {
      "text/plain": [
       "(303, 13)"
      ]
     },
     "execution_count": 15,
     "metadata": {},
     "output_type": "execute_result"
    }
   ],
   "source": [
    "X.shape"
   ]
  },
  {
   "cell_type": "code",
   "execution_count": 16,
   "metadata": {},
   "outputs": [
    {
     "data": {
      "text/plain": [
       "age         0\n",
       "sex         0\n",
       "cp          0\n",
       "trestbps    0\n",
       "chol        0\n",
       "fbs         0\n",
       "restecg     0\n",
       "thalach     0\n",
       "exang       0\n",
       "oldpeak     0\n",
       "slope       0\n",
       "ca          0\n",
       "thal        0\n",
       "target      0\n",
       "dtype: int64"
      ]
     },
     "execution_count": 16,
     "metadata": {},
     "output_type": "execute_result"
    }
   ],
   "source": [
    "heart.isna().sum()                  #There should be no Null values in Feature and Target variables."
   ]
  },
  {
   "cell_type": "markdown",
   "metadata": {},
   "source": [
    "# Step 2"
   ]
  },
  {
   "cell_type": "code",
   "execution_count": 57,
   "metadata": {},
   "outputs": [],
   "source": [
    "from sklearn.model_selection import train_test_split"
   ]
  },
  {
   "cell_type": "code",
   "execution_count": 58,
   "metadata": {},
   "outputs": [],
   "source": [
    "X_train,X_test,y_train,y_test=train_test_split(X,y,test_size=0.3,random_state=0,stratify=y)"
   ]
  },
  {
   "cell_type": "markdown",
   "metadata": {},
   "source": [
    "# Always Do Scaling and Normalize after Step 2 (i.e Splitting the dataset)"
   ]
  },
  {
   "cell_type": "markdown",
   "metadata": {},
   "source": [
    "# Scaling Method"
   ]
  },
  {
   "cell_type": "code",
   "execution_count": 59,
   "metadata": {},
   "outputs": [],
   "source": [
    "from sklearn.preprocessing import StandardScaler"
   ]
  },
  {
   "cell_type": "code",
   "execution_count": 60,
   "metadata": {},
   "outputs": [],
   "source": [
    "SS=StandardScaler()"
   ]
  },
  {
   "cell_type": "code",
   "execution_count": 61,
   "metadata": {},
   "outputs": [],
   "source": [
    "X_scaled_train=SS.fit_transform(X_train)                    #Array"
   ]
  },
  {
   "cell_type": "code",
   "execution_count": 62,
   "metadata": {},
   "outputs": [],
   "source": [
    "X_scaled_train=pd.DataFrame(X_scaled_train)                 #Converting to DataFrame"
   ]
  },
  {
   "cell_type": "code",
   "execution_count": 63,
   "metadata": {},
   "outputs": [
    {
     "data": {
      "text/html": [
       "<div>\n",
       "<style scoped>\n",
       "    .dataframe tbody tr th:only-of-type {\n",
       "        vertical-align: middle;\n",
       "    }\n",
       "\n",
       "    .dataframe tbody tr th {\n",
       "        vertical-align: top;\n",
       "    }\n",
       "\n",
       "    .dataframe thead th {\n",
       "        text-align: right;\n",
       "    }\n",
       "</style>\n",
       "<table border=\"1\" class=\"dataframe\">\n",
       "  <thead>\n",
       "    <tr style=\"text-align: right;\">\n",
       "      <th></th>\n",
       "      <th>0</th>\n",
       "      <th>1</th>\n",
       "      <th>2</th>\n",
       "      <th>3</th>\n",
       "      <th>4</th>\n",
       "      <th>5</th>\n",
       "      <th>6</th>\n",
       "      <th>7</th>\n",
       "      <th>8</th>\n",
       "      <th>9</th>\n",
       "      <th>10</th>\n",
       "      <th>11</th>\n",
       "      <th>12</th>\n",
       "    </tr>\n",
       "  </thead>\n",
       "  <tbody>\n",
       "    <tr>\n",
       "      <td>0</td>\n",
       "      <td>-0.259285</td>\n",
       "      <td>0.650245</td>\n",
       "      <td>-0.941474</td>\n",
       "      <td>-0.391761</td>\n",
       "      <td>-0.673148</td>\n",
       "      <td>-0.459814</td>\n",
       "      <td>0.886939</td>\n",
       "      <td>0.809510</td>\n",
       "      <td>-0.679757</td>\n",
       "      <td>-0.034759</td>\n",
       "      <td>0.972535</td>\n",
       "      <td>1.219068</td>\n",
       "      <td>1.107708</td>\n",
       "    </tr>\n",
       "    <tr>\n",
       "      <td>1</td>\n",
       "      <td>-0.149568</td>\n",
       "      <td>0.650245</td>\n",
       "      <td>-0.941474</td>\n",
       "      <td>0.464459</td>\n",
       "      <td>-0.865794</td>\n",
       "      <td>2.174794</td>\n",
       "      <td>-1.012364</td>\n",
       "      <td>0.249096</td>\n",
       "      <td>1.471115</td>\n",
       "      <td>1.785819</td>\n",
       "      <td>-2.199426</td>\n",
       "      <td>-0.702437</td>\n",
       "      <td>1.107708</td>\n",
       "    </tr>\n",
       "    <tr>\n",
       "      <td>2</td>\n",
       "      <td>-1.685611</td>\n",
       "      <td>-1.537881</td>\n",
       "      <td>0.996317</td>\n",
       "      <td>-2.161282</td>\n",
       "      <td>-0.951414</td>\n",
       "      <td>-0.459814</td>\n",
       "      <td>0.886939</td>\n",
       "      <td>1.283707</td>\n",
       "      <td>-0.679757</td>\n",
       "      <td>-0.901702</td>\n",
       "      <td>0.972535</td>\n",
       "      <td>-0.702437</td>\n",
       "      <td>-0.489803</td>\n",
       "    </tr>\n",
       "    <tr>\n",
       "      <td>3</td>\n",
       "      <td>1.167041</td>\n",
       "      <td>-1.537881</td>\n",
       "      <td>0.996317</td>\n",
       "      <td>1.606086</td>\n",
       "      <td>2.494798</td>\n",
       "      <td>-0.459814</td>\n",
       "      <td>-1.012364</td>\n",
       "      <td>0.076660</td>\n",
       "      <td>-0.679757</td>\n",
       "      <td>-0.208148</td>\n",
       "      <td>0.972535</td>\n",
       "      <td>-0.702437</td>\n",
       "      <td>-0.489803</td>\n",
       "    </tr>\n",
       "    <tr>\n",
       "      <td>4</td>\n",
       "      <td>0.289302</td>\n",
       "      <td>-1.537881</td>\n",
       "      <td>-0.941474</td>\n",
       "      <td>-0.220517</td>\n",
       "      <td>1.274711</td>\n",
       "      <td>-0.459814</td>\n",
       "      <td>-1.012364</td>\n",
       "      <td>0.421531</td>\n",
       "      <td>-0.679757</td>\n",
       "      <td>-0.901702</td>\n",
       "      <td>0.972535</td>\n",
       "      <td>0.258316</td>\n",
       "      <td>-0.489803</td>\n",
       "    </tr>\n",
       "  </tbody>\n",
       "</table>\n",
       "</div>"
      ],
      "text/plain": [
       "          0         1         2         3         4         5         6  \\\n",
       "0 -0.259285  0.650245 -0.941474 -0.391761 -0.673148 -0.459814  0.886939   \n",
       "1 -0.149568  0.650245 -0.941474  0.464459 -0.865794  2.174794 -1.012364   \n",
       "2 -1.685611 -1.537881  0.996317 -2.161282 -0.951414 -0.459814  0.886939   \n",
       "3  1.167041 -1.537881  0.996317  1.606086  2.494798 -0.459814 -1.012364   \n",
       "4  0.289302 -1.537881 -0.941474 -0.220517  1.274711 -0.459814 -1.012364   \n",
       "\n",
       "          7         8         9        10        11        12  \n",
       "0  0.809510 -0.679757 -0.034759  0.972535  1.219068  1.107708  \n",
       "1  0.249096  1.471115  1.785819 -2.199426 -0.702437  1.107708  \n",
       "2  1.283707 -0.679757 -0.901702  0.972535 -0.702437 -0.489803  \n",
       "3  0.076660 -0.679757 -0.208148  0.972535 -0.702437 -0.489803  \n",
       "4  0.421531 -0.679757 -0.901702  0.972535  0.258316 -0.489803  "
      ]
     },
     "execution_count": 63,
     "metadata": {},
     "output_type": "execute_result"
    }
   ],
   "source": [
    "X_scaled_train.head()"
   ]
  },
  {
   "cell_type": "code",
   "execution_count": 64,
   "metadata": {},
   "outputs": [],
   "source": [
    "X_scaled_test=SS.transform(X_test)                          #Array"
   ]
  },
  {
   "cell_type": "code",
   "execution_count": 65,
   "metadata": {},
   "outputs": [],
   "source": [
    "X_scaled_test=pd.DataFrame(X_scaled_test)                   #Converting to DataFrame"
   ]
  },
  {
   "cell_type": "code",
   "execution_count": 66,
   "metadata": {},
   "outputs": [
    {
     "data": {
      "text/html": [
       "<div>\n",
       "<style scoped>\n",
       "    .dataframe tbody tr th:only-of-type {\n",
       "        vertical-align: middle;\n",
       "    }\n",
       "\n",
       "    .dataframe tbody tr th {\n",
       "        vertical-align: top;\n",
       "    }\n",
       "\n",
       "    .dataframe thead th {\n",
       "        text-align: right;\n",
       "    }\n",
       "</style>\n",
       "<table border=\"1\" class=\"dataframe\">\n",
       "  <thead>\n",
       "    <tr style=\"text-align: right;\">\n",
       "      <th></th>\n",
       "      <th>0</th>\n",
       "      <th>1</th>\n",
       "      <th>2</th>\n",
       "      <th>3</th>\n",
       "      <th>4</th>\n",
       "      <th>5</th>\n",
       "      <th>6</th>\n",
       "      <th>7</th>\n",
       "      <th>8</th>\n",
       "      <th>9</th>\n",
       "      <th>10</th>\n",
       "      <th>11</th>\n",
       "      <th>12</th>\n",
       "    </tr>\n",
       "  </thead>\n",
       "  <tbody>\n",
       "    <tr>\n",
       "      <td>0</td>\n",
       "      <td>0.947606</td>\n",
       "      <td>0.650245</td>\n",
       "      <td>-0.941474</td>\n",
       "      <td>0.464459</td>\n",
       "      <td>-1.208274</td>\n",
       "      <td>-0.459814</td>\n",
       "      <td>-1.012364</td>\n",
       "      <td>-0.225101</td>\n",
       "      <td>1.471115</td>\n",
       "      <td>2.566067</td>\n",
       "      <td>0.972535</td>\n",
       "      <td>1.219068</td>\n",
       "      <td>1.107708</td>\n",
       "    </tr>\n",
       "    <tr>\n",
       "      <td>1</td>\n",
       "      <td>-2.782785</td>\n",
       "      <td>0.650245</td>\n",
       "      <td>0.027422</td>\n",
       "      <td>-0.106354</td>\n",
       "      <td>-0.844389</td>\n",
       "      <td>-0.459814</td>\n",
       "      <td>-1.012364</td>\n",
       "      <td>2.275209</td>\n",
       "      <td>-0.679757</td>\n",
       "      <td>-0.901702</td>\n",
       "      <td>0.972535</td>\n",
       "      <td>-0.702437</td>\n",
       "      <td>-0.489803</td>\n",
       "    </tr>\n",
       "    <tr>\n",
       "      <td>2</td>\n",
       "      <td>1.057324</td>\n",
       "      <td>-1.537881</td>\n",
       "      <td>-0.941474</td>\n",
       "      <td>2.747712</td>\n",
       "      <td>1.745622</td>\n",
       "      <td>-0.459814</td>\n",
       "      <td>0.886939</td>\n",
       "      <td>0.205987</td>\n",
       "      <td>1.471115</td>\n",
       "      <td>-0.901702</td>\n",
       "      <td>0.972535</td>\n",
       "      <td>-0.702437</td>\n",
       "      <td>-0.489803</td>\n",
       "    </tr>\n",
       "    <tr>\n",
       "      <td>3</td>\n",
       "      <td>1.057324</td>\n",
       "      <td>-1.537881</td>\n",
       "      <td>0.996317</td>\n",
       "      <td>0.464459</td>\n",
       "      <td>1.488761</td>\n",
       "      <td>-0.459814</td>\n",
       "      <td>0.886939</td>\n",
       "      <td>-0.699298</td>\n",
       "      <td>-0.679757</td>\n",
       "      <td>-0.728313</td>\n",
       "      <td>0.972535</td>\n",
       "      <td>-0.702437</td>\n",
       "      <td>1.107708</td>\n",
       "    </tr>\n",
       "    <tr>\n",
       "      <td>4</td>\n",
       "      <td>-1.027307</td>\n",
       "      <td>0.650245</td>\n",
       "      <td>-0.941474</td>\n",
       "      <td>-1.590469</td>\n",
       "      <td>-0.758768</td>\n",
       "      <td>-0.459814</td>\n",
       "      <td>-1.012364</td>\n",
       "      <td>-0.052666</td>\n",
       "      <td>1.471115</td>\n",
       "      <td>1.699125</td>\n",
       "      <td>-0.613445</td>\n",
       "      <td>-0.702437</td>\n",
       "      <td>-0.489803</td>\n",
       "    </tr>\n",
       "  </tbody>\n",
       "</table>\n",
       "</div>"
      ],
      "text/plain": [
       "          0         1         2         3         4         5         6  \\\n",
       "0  0.947606  0.650245 -0.941474  0.464459 -1.208274 -0.459814 -1.012364   \n",
       "1 -2.782785  0.650245  0.027422 -0.106354 -0.844389 -0.459814 -1.012364   \n",
       "2  1.057324 -1.537881 -0.941474  2.747712  1.745622 -0.459814  0.886939   \n",
       "3  1.057324 -1.537881  0.996317  0.464459  1.488761 -0.459814  0.886939   \n",
       "4 -1.027307  0.650245 -0.941474 -1.590469 -0.758768 -0.459814 -1.012364   \n",
       "\n",
       "          7         8         9        10        11        12  \n",
       "0 -0.225101  1.471115  2.566067  0.972535  1.219068  1.107708  \n",
       "1  2.275209 -0.679757 -0.901702  0.972535 -0.702437 -0.489803  \n",
       "2  0.205987  1.471115 -0.901702  0.972535 -0.702437 -0.489803  \n",
       "3 -0.699298 -0.679757 -0.728313  0.972535 -0.702437  1.107708  \n",
       "4 -0.052666  1.471115  1.699125 -0.613445 -0.702437 -0.489803  "
      ]
     },
     "execution_count": 66,
     "metadata": {},
     "output_type": "execute_result"
    }
   ],
   "source": [
    "X_scaled_test.head()"
   ]
  },
  {
   "cell_type": "markdown",
   "metadata": {},
   "source": [
    "# Normalize"
   ]
  },
  {
   "cell_type": "code",
   "execution_count": 67,
   "metadata": {},
   "outputs": [],
   "source": [
    "from sklearn.preprocessing import normalize"
   ]
  },
  {
   "cell_type": "code",
   "execution_count": 68,
   "metadata": {},
   "outputs": [],
   "source": [
    "X_normalized_train=normalize(X_scaled_train)                       #Array"
   ]
  },
  {
   "cell_type": "code",
   "execution_count": 69,
   "metadata": {},
   "outputs": [],
   "source": [
    "X_normalized_train=pd.DataFrame(X_normalized_train)                #Converting to DataFrame"
   ]
  },
  {
   "cell_type": "code",
   "execution_count": 70,
   "metadata": {},
   "outputs": [
    {
     "data": {
      "text/html": [
       "<div>\n",
       "<style scoped>\n",
       "    .dataframe tbody tr th:only-of-type {\n",
       "        vertical-align: middle;\n",
       "    }\n",
       "\n",
       "    .dataframe tbody tr th {\n",
       "        vertical-align: top;\n",
       "    }\n",
       "\n",
       "    .dataframe thead th {\n",
       "        text-align: right;\n",
       "    }\n",
       "</style>\n",
       "<table border=\"1\" class=\"dataframe\">\n",
       "  <thead>\n",
       "    <tr style=\"text-align: right;\">\n",
       "      <th></th>\n",
       "      <th>0</th>\n",
       "      <th>1</th>\n",
       "      <th>2</th>\n",
       "      <th>3</th>\n",
       "      <th>4</th>\n",
       "      <th>5</th>\n",
       "      <th>6</th>\n",
       "      <th>7</th>\n",
       "      <th>8</th>\n",
       "      <th>9</th>\n",
       "      <th>10</th>\n",
       "      <th>11</th>\n",
       "      <th>12</th>\n",
       "    </tr>\n",
       "  </thead>\n",
       "  <tbody>\n",
       "    <tr>\n",
       "      <td>0</td>\n",
       "      <td>-0.093086</td>\n",
       "      <td>0.233444</td>\n",
       "      <td>-0.337998</td>\n",
       "      <td>-0.140646</td>\n",
       "      <td>-0.241667</td>\n",
       "      <td>-0.165078</td>\n",
       "      <td>0.318420</td>\n",
       "      <td>0.290622</td>\n",
       "      <td>-0.244039</td>\n",
       "      <td>-0.012479</td>\n",
       "      <td>0.349150</td>\n",
       "      <td>0.437657</td>\n",
       "      <td>0.397678</td>\n",
       "    </tr>\n",
       "    <tr>\n",
       "      <td>1</td>\n",
       "      <td>-0.033424</td>\n",
       "      <td>0.145309</td>\n",
       "      <td>-0.210390</td>\n",
       "      <td>0.103792</td>\n",
       "      <td>-0.193478</td>\n",
       "      <td>0.485998</td>\n",
       "      <td>-0.226231</td>\n",
       "      <td>0.055665</td>\n",
       "      <td>0.328748</td>\n",
       "      <td>0.399074</td>\n",
       "      <td>-0.491502</td>\n",
       "      <td>-0.156972</td>\n",
       "      <td>0.247538</td>\n",
       "    </tr>\n",
       "    <tr>\n",
       "      <td>2</td>\n",
       "      <td>-0.404378</td>\n",
       "      <td>-0.368937</td>\n",
       "      <td>0.239016</td>\n",
       "      <td>-0.518491</td>\n",
       "      <td>-0.228244</td>\n",
       "      <td>-0.110309</td>\n",
       "      <td>0.212776</td>\n",
       "      <td>0.307961</td>\n",
       "      <td>-0.163073</td>\n",
       "      <td>-0.216318</td>\n",
       "      <td>0.233311</td>\n",
       "      <td>-0.168514</td>\n",
       "      <td>-0.117504</td>\n",
       "    </tr>\n",
       "    <tr>\n",
       "      <td>3</td>\n",
       "      <td>0.283466</td>\n",
       "      <td>-0.373541</td>\n",
       "      <td>0.241999</td>\n",
       "      <td>0.390107</td>\n",
       "      <td>0.605970</td>\n",
       "      <td>-0.111686</td>\n",
       "      <td>-0.245897</td>\n",
       "      <td>0.018620</td>\n",
       "      <td>-0.165108</td>\n",
       "      <td>-0.050558</td>\n",
       "      <td>0.236222</td>\n",
       "      <td>-0.170617</td>\n",
       "      <td>-0.118970</td>\n",
       "    </tr>\n",
       "    <tr>\n",
       "      <td>4</td>\n",
       "      <td>0.096702</td>\n",
       "      <td>-0.514050</td>\n",
       "      <td>-0.314696</td>\n",
       "      <td>-0.073710</td>\n",
       "      <td>0.426083</td>\n",
       "      <td>-0.153697</td>\n",
       "      <td>-0.338391</td>\n",
       "      <td>0.140900</td>\n",
       "      <td>-0.227214</td>\n",
       "      <td>-0.301401</td>\n",
       "      <td>0.325078</td>\n",
       "      <td>0.086344</td>\n",
       "      <td>-0.163721</td>\n",
       "    </tr>\n",
       "  </tbody>\n",
       "</table>\n",
       "</div>"
      ],
      "text/plain": [
       "          0         1         2         3         4         5         6  \\\n",
       "0 -0.093086  0.233444 -0.337998 -0.140646 -0.241667 -0.165078  0.318420   \n",
       "1 -0.033424  0.145309 -0.210390  0.103792 -0.193478  0.485998 -0.226231   \n",
       "2 -0.404378 -0.368937  0.239016 -0.518491 -0.228244 -0.110309  0.212776   \n",
       "3  0.283466 -0.373541  0.241999  0.390107  0.605970 -0.111686 -0.245897   \n",
       "4  0.096702 -0.514050 -0.314696 -0.073710  0.426083 -0.153697 -0.338391   \n",
       "\n",
       "          7         8         9        10        11        12  \n",
       "0  0.290622 -0.244039 -0.012479  0.349150  0.437657  0.397678  \n",
       "1  0.055665  0.328748  0.399074 -0.491502 -0.156972  0.247538  \n",
       "2  0.307961 -0.163073 -0.216318  0.233311 -0.168514 -0.117504  \n",
       "3  0.018620 -0.165108 -0.050558  0.236222 -0.170617 -0.118970  \n",
       "4  0.140900 -0.227214 -0.301401  0.325078  0.086344 -0.163721  "
      ]
     },
     "execution_count": 70,
     "metadata": {},
     "output_type": "execute_result"
    }
   ],
   "source": [
    "X_normalized_train.head()"
   ]
  },
  {
   "cell_type": "code",
   "execution_count": 71,
   "metadata": {},
   "outputs": [],
   "source": [
    "X_normalized_test=normalize(X_scaled_test)                        #Array"
   ]
  },
  {
   "cell_type": "code",
   "execution_count": 72,
   "metadata": {},
   "outputs": [],
   "source": [
    "X_normalized_test=pd.DataFrame(X_normalized_test)                 #Converting to DataFrame"
   ]
  },
  {
   "cell_type": "code",
   "execution_count": 73,
   "metadata": {},
   "outputs": [
    {
     "data": {
      "text/html": [
       "<div>\n",
       "<style scoped>\n",
       "    .dataframe tbody tr th:only-of-type {\n",
       "        vertical-align: middle;\n",
       "    }\n",
       "\n",
       "    .dataframe tbody tr th {\n",
       "        vertical-align: top;\n",
       "    }\n",
       "\n",
       "    .dataframe thead th {\n",
       "        text-align: right;\n",
       "    }\n",
       "</style>\n",
       "<table border=\"1\" class=\"dataframe\">\n",
       "  <thead>\n",
       "    <tr style=\"text-align: right;\">\n",
       "      <th></th>\n",
       "      <th>0</th>\n",
       "      <th>1</th>\n",
       "      <th>2</th>\n",
       "      <th>3</th>\n",
       "      <th>4</th>\n",
       "      <th>5</th>\n",
       "      <th>6</th>\n",
       "      <th>7</th>\n",
       "      <th>8</th>\n",
       "      <th>9</th>\n",
       "      <th>10</th>\n",
       "      <th>11</th>\n",
       "      <th>12</th>\n",
       "    </tr>\n",
       "  </thead>\n",
       "  <tbody>\n",
       "    <tr>\n",
       "      <td>0</td>\n",
       "      <td>0.226021</td>\n",
       "      <td>0.155095</td>\n",
       "      <td>-0.224558</td>\n",
       "      <td>0.110781</td>\n",
       "      <td>-0.288194</td>\n",
       "      <td>-0.109674</td>\n",
       "      <td>-0.241466</td>\n",
       "      <td>-0.053691</td>\n",
       "      <td>0.350886</td>\n",
       "      <td>0.612051</td>\n",
       "      <td>0.231966</td>\n",
       "      <td>0.290769</td>\n",
       "      <td>0.264208</td>\n",
       "    </tr>\n",
       "    <tr>\n",
       "      <td>1</td>\n",
       "      <td>-0.651241</td>\n",
       "      <td>0.152174</td>\n",
       "      <td>0.006417</td>\n",
       "      <td>-0.024890</td>\n",
       "      <td>-0.197608</td>\n",
       "      <td>-0.107608</td>\n",
       "      <td>-0.236919</td>\n",
       "      <td>0.532456</td>\n",
       "      <td>-0.159080</td>\n",
       "      <td>-0.211021</td>\n",
       "      <td>0.227598</td>\n",
       "      <td>-0.164388</td>\n",
       "      <td>-0.114626</td>\n",
       "    </tr>\n",
       "    <tr>\n",
       "      <td>2</td>\n",
       "      <td>0.232599</td>\n",
       "      <td>-0.338315</td>\n",
       "      <td>-0.207113</td>\n",
       "      <td>0.604464</td>\n",
       "      <td>0.384016</td>\n",
       "      <td>-0.101153</td>\n",
       "      <td>0.195116</td>\n",
       "      <td>0.045315</td>\n",
       "      <td>0.323628</td>\n",
       "      <td>-0.198363</td>\n",
       "      <td>0.213946</td>\n",
       "      <td>-0.154528</td>\n",
       "      <td>-0.107751</td>\n",
       "    </tr>\n",
       "    <tr>\n",
       "      <td>3</td>\n",
       "      <td>0.304543</td>\n",
       "      <td>-0.442959</td>\n",
       "      <td>0.286971</td>\n",
       "      <td>0.133779</td>\n",
       "      <td>0.428811</td>\n",
       "      <td>-0.132441</td>\n",
       "      <td>0.255467</td>\n",
       "      <td>-0.201420</td>\n",
       "      <td>-0.195791</td>\n",
       "      <td>-0.209777</td>\n",
       "      <td>0.280121</td>\n",
       "      <td>-0.202324</td>\n",
       "      <td>0.319055</td>\n",
       "    </tr>\n",
       "    <tr>\n",
       "      <td>4</td>\n",
       "      <td>-0.286361</td>\n",
       "      <td>0.181256</td>\n",
       "      <td>-0.262435</td>\n",
       "      <td>-0.443342</td>\n",
       "      <td>-0.211506</td>\n",
       "      <td>-0.128173</td>\n",
       "      <td>-0.282196</td>\n",
       "      <td>-0.014681</td>\n",
       "      <td>0.410073</td>\n",
       "      <td>0.473630</td>\n",
       "      <td>-0.170998</td>\n",
       "      <td>-0.195804</td>\n",
       "      <td>-0.136532</td>\n",
       "    </tr>\n",
       "  </tbody>\n",
       "</table>\n",
       "</div>"
      ],
      "text/plain": [
       "          0         1         2         3         4         5         6  \\\n",
       "0  0.226021  0.155095 -0.224558  0.110781 -0.288194 -0.109674 -0.241466   \n",
       "1 -0.651241  0.152174  0.006417 -0.024890 -0.197608 -0.107608 -0.236919   \n",
       "2  0.232599 -0.338315 -0.207113  0.604464  0.384016 -0.101153  0.195116   \n",
       "3  0.304543 -0.442959  0.286971  0.133779  0.428811 -0.132441  0.255467   \n",
       "4 -0.286361  0.181256 -0.262435 -0.443342 -0.211506 -0.128173 -0.282196   \n",
       "\n",
       "          7         8         9        10        11        12  \n",
       "0 -0.053691  0.350886  0.612051  0.231966  0.290769  0.264208  \n",
       "1  0.532456 -0.159080 -0.211021  0.227598 -0.164388 -0.114626  \n",
       "2  0.045315  0.323628 -0.198363  0.213946 -0.154528 -0.107751  \n",
       "3 -0.201420 -0.195791 -0.209777  0.280121 -0.202324  0.319055  \n",
       "4 -0.014681  0.410073  0.473630 -0.170998 -0.195804 -0.136532  "
      ]
     },
     "execution_count": 73,
     "metadata": {},
     "output_type": "execute_result"
    }
   ],
   "source": [
    "X_normalized_test.head()"
   ]
  },
  {
   "cell_type": "markdown",
   "metadata": {},
   "source": [
    "# Step 3"
   ]
  },
  {
   "cell_type": "code",
   "execution_count": 74,
   "metadata": {},
   "outputs": [],
   "source": [
    "from sklearn.svm import SVC"
   ]
  },
  {
   "cell_type": "code",
   "execution_count": 75,
   "metadata": {},
   "outputs": [],
   "source": [
    "svc=SVC(kernel=\"rbf\",degree=3)                           #kernel=\"rbf\",\"poly\",\"linear\",\"sigmoid\"          degree=2,3,4"
   ]
  },
  {
   "cell_type": "code",
   "execution_count": 76,
   "metadata": {},
   "outputs": [
    {
     "name": "stderr",
     "output_type": "stream",
     "text": [
      "C:\\Users\\Dell\\Anaconda3\\lib\\site-packages\\sklearn\\svm\\base.py:193: FutureWarning: The default value of gamma will change from 'auto' to 'scale' in version 0.22 to account better for unscaled features. Set gamma explicitly to 'auto' or 'scale' to avoid this warning.\n",
      "  \"avoid this warning.\", FutureWarning)\n"
     ]
    },
    {
     "data": {
      "text/plain": [
       "SVC(C=1.0, cache_size=200, class_weight=None, coef0=0.0,\n",
       "    decision_function_shape='ovr', degree=3, gamma='auto_deprecated',\n",
       "    kernel='rbf', max_iter=-1, probability=False, random_state=None,\n",
       "    shrinking=True, tol=0.001, verbose=False)"
      ]
     },
     "execution_count": 76,
     "metadata": {},
     "output_type": "execute_result"
    }
   ],
   "source": [
    "svc.fit(X_normalized_train,y_train)"
   ]
  },
  {
   "cell_type": "markdown",
   "metadata": {},
   "source": [
    "# Step 4"
   ]
  },
  {
   "cell_type": "markdown",
   "metadata": {},
   "source": [
    "# Evaluate"
   ]
  },
  {
   "cell_type": "code",
   "execution_count": 77,
   "metadata": {},
   "outputs": [
    {
     "data": {
      "text/plain": [
       "0.8791208791208791"
      ]
     },
     "execution_count": 77,
     "metadata": {},
     "output_type": "execute_result"
    }
   ],
   "source": [
    "svc.score(X_normalized_test,y_test)"
   ]
  },
  {
   "cell_type": "markdown",
   "metadata": {},
   "source": [
    "# Predict"
   ]
  },
  {
   "cell_type": "code",
   "execution_count": 78,
   "metadata": {},
   "outputs": [
    {
     "data": {
      "text/plain": [
       "array([0, 1, 1, 1, 0, 1, 0, 1, 1, 0, 0, 1, 1, 1, 0, 1, 1, 1, 0, 1, 1, 0,\n",
       "       1, 0, 0, 1, 1, 0, 0, 1, 1, 1, 1, 0, 1, 1, 0, 1, 0, 0, 0, 0, 1, 1,\n",
       "       0, 0, 1, 0, 1, 0, 1, 1, 0, 1, 1, 0, 1, 0, 1, 1, 1, 1, 1, 0, 0, 0,\n",
       "       0, 1, 1, 1, 1, 1, 0, 0, 1, 1, 1, 1, 1, 1, 1, 0, 1, 1, 1, 0, 1, 0,\n",
       "       0, 1, 0], dtype=int64)"
      ]
     },
     "execution_count": 78,
     "metadata": {},
     "output_type": "execute_result"
    }
   ],
   "source": [
    "svc.predict(X_normalized_test)"
   ]
  },
  {
   "cell_type": "code",
   "execution_count": null,
   "metadata": {},
   "outputs": [],
   "source": []
  }
 ],
 "metadata": {
  "kernelspec": {
   "display_name": "Python 3",
   "language": "python",
   "name": "python3"
  },
  "language_info": {
   "codemirror_mode": {
    "name": "ipython",
    "version": 3
   },
   "file_extension": ".py",
   "mimetype": "text/x-python",
   "name": "python",
   "nbconvert_exporter": "python",
   "pygments_lexer": "ipython3",
   "version": "3.7.4"
  }
 },
 "nbformat": 4,
 "nbformat_minor": 2
}
